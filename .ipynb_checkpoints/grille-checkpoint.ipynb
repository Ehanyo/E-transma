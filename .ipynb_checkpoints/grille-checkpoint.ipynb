{
 "cells": [
  {
   "cell_type": "code",
   "execution_count": 7,
   "id": "66840e9e-8e11-4c99-b6a5-51f8477ddb19",
   "metadata": {},
   "outputs": [],
   "source": [
    "import pandas as pd\n",
    "import numpy as np"
   ]
  },
  {
   "cell_type": "code",
   "execution_count": 8,
   "id": "01678997",
   "metadata": {},
   "outputs": [
    {
     "data": {
      "text/html": [
       "<div>\n",
       "<style scoped>\n",
       "    .dataframe tbody tr th:only-of-type {\n",
       "        vertical-align: middle;\n",
       "    }\n",
       "\n",
       "    .dataframe tbody tr th {\n",
       "        vertical-align: top;\n",
       "    }\n",
       "\n",
       "    .dataframe thead th {\n",
       "        text-align: right;\n",
       "    }\n",
       "</style>\n",
       "<table border=\"1\" class=\"dataframe\">\n",
       "  <thead>\n",
       "    <tr style=\"text-align: right;\">\n",
       "      <th></th>\n",
       "      <th>depart</th>\n",
       "      <th>arrivé</th>\n",
       "    </tr>\n",
       "  </thead>\n",
       "  <tbody>\n",
       "    <tr>\n",
       "      <th>0</th>\n",
       "      <td>-4.408841988002255, 15.41111462057224</td>\n",
       "      <td>-4.368794132299787, 15.480081117531181: 500; -...</td>\n",
       "    </tr>\n",
       "    <tr>\n",
       "      <th>1</th>\n",
       "      <td>-4.310516029269822, 15.31275801194449</td>\n",
       "      <td>-4.421849693531997, 15.38071364233654: 1500; -...</td>\n",
       "    </tr>\n",
       "    <tr>\n",
       "      <th>2</th>\n",
       "      <td>-4.3011001248614, 15.317963615343366</td>\n",
       "      <td>-4.408884776353673, 15.411243366602365: 1500; ...</td>\n",
       "    </tr>\n",
       "    <tr>\n",
       "      <th>3</th>\n",
       "      <td>-4.3390993860752785, 15.281008604124567</td>\n",
       "      <td>-4.3011001248614, 15.317963615343366: 500; -4....</td>\n",
       "    </tr>\n",
       "    <tr>\n",
       "      <th>4</th>\n",
       "      <td>-4.340512347956663, 15.31374782376787</td>\n",
       "      <td>-4.409227083076333, 15.411286281945738: 1000; ...</td>\n",
       "    </tr>\n",
       "  </tbody>\n",
       "</table>\n",
       "</div>"
      ],
      "text/plain": [
       "                                    depart  \\\n",
       "0    -4.408841988002255, 15.41111462057224   \n",
       "1    -4.310516029269822, 15.31275801194449   \n",
       "2     -4.3011001248614, 15.317963615343366   \n",
       "3  -4.3390993860752785, 15.281008604124567   \n",
       "4    -4.340512347956663, 15.31374782376787   \n",
       "\n",
       "                                              arrivé  \n",
       "0  -4.368794132299787, 15.480081117531181: 500; -...  \n",
       "1  -4.421849693531997, 15.38071364233654: 1500; -...  \n",
       "2  -4.408884776353673, 15.411243366602365: 1500; ...  \n",
       "3  -4.3011001248614, 15.317963615343366: 500; -4....  \n",
       "4  -4.409227083076333, 15.411286281945738: 1000; ...  "
      ]
     },
     "execution_count": 8,
     "metadata": {},
     "output_type": "execute_result"
    }
   ],
   "source": [
    "data = pd.read_csv('C:/Users/medam/OneDrive/Documentos/E-TRANSMA/etransma/grille.csv')\n",
    "data.head()"
   ]
  },
  {
   "cell_type": "code",
   "execution_count": 10,
   "id": "13f3e058",
   "metadata": {},
   "outputs": [
    {
     "data": {
      "text/html": [
       "<div>\n",
       "<style scoped>\n",
       "    .dataframe tbody tr th:only-of-type {\n",
       "        vertical-align: middle;\n",
       "    }\n",
       "\n",
       "    .dataframe tbody tr th {\n",
       "        vertical-align: top;\n",
       "    }\n",
       "\n",
       "    .dataframe thead th {\n",
       "        text-align: right;\n",
       "    }\n",
       "</style>\n",
       "<table border=\"1\" class=\"dataframe\">\n",
       "  <thead>\n",
       "    <tr style=\"text-align: right;\">\n",
       "      <th></th>\n",
       "      <th>depart</th>\n",
       "      <th>arrivé</th>\n",
       "      <th>mediane</th>\n",
       "    </tr>\n",
       "  </thead>\n",
       "  <tbody>\n",
       "    <tr>\n",
       "      <th>0</th>\n",
       "      <td>-4.408841988002255, 15.41111462057224</td>\n",
       "      <td>-4.368794132299787, 15.480081117531181: 500; -...</td>\n",
       "      <td>1250.0</td>\n",
       "    </tr>\n",
       "    <tr>\n",
       "      <th>1</th>\n",
       "      <td>-4.310516029269822, 15.31275801194449</td>\n",
       "      <td>-4.421849693531997, 15.38071364233654: 1500; -...</td>\n",
       "      <td>1000.0</td>\n",
       "    </tr>\n",
       "    <tr>\n",
       "      <th>2</th>\n",
       "      <td>-4.3011001248614, 15.317963615343366</td>\n",
       "      <td>-4.408884776353673, 15.411243366602365: 1500; ...</td>\n",
       "      <td>1000.0</td>\n",
       "    </tr>\n",
       "    <tr>\n",
       "      <th>3</th>\n",
       "      <td>-4.3390993860752785, 15.281008604124567</td>\n",
       "      <td>-4.3011001248614, 15.317963615343366: 500; -4....</td>\n",
       "      <td>500.0</td>\n",
       "    </tr>\n",
       "    <tr>\n",
       "      <th>4</th>\n",
       "      <td>-4.340512347956663, 15.31374782376787</td>\n",
       "      <td>-4.409227083076333, 15.411286281945738: 1000; ...</td>\n",
       "      <td>1000.0</td>\n",
       "    </tr>\n",
       "  </tbody>\n",
       "</table>\n",
       "</div>"
      ],
      "text/plain": [
       "                                    depart  \\\n",
       "0    -4.408841988002255, 15.41111462057224   \n",
       "1    -4.310516029269822, 15.31275801194449   \n",
       "2     -4.3011001248614, 15.317963615343366   \n",
       "3  -4.3390993860752785, 15.281008604124567   \n",
       "4    -4.340512347956663, 15.31374782376787   \n",
       "\n",
       "                                              arrivé  mediane  \n",
       "0  -4.368794132299787, 15.480081117531181: 500; -...   1250.0  \n",
       "1  -4.421849693531997, 15.38071364233654: 1500; -...   1000.0  \n",
       "2  -4.408884776353673, 15.411243366602365: 1500; ...   1000.0  \n",
       "3  -4.3011001248614, 15.317963615343366: 500; -4....    500.0  \n",
       "4  -4.409227083076333, 15.411286281945738: 1000; ...   1000.0  "
      ]
     },
     "execution_count": 10,
     "metadata": {},
     "output_type": "execute_result"
    }
   ],
   "source": [
    "# Fonction pour calculer la médiane des prix\n",
    "def calculer_mediane(arrive_str):\n",
    "    prix = []\n",
    "    # Séparer les points et les prix\n",
    "    for item in arrive_str.split(';'):\n",
    "        if ':' in item:\n",
    "            # Extraire le prix après le dernier ':'\n",
    "            prix_part = item.split(':')[-1].strip()\n",
    "            prix.append(int(prix_part))\n",
    "    return np.median(prix)\n",
    "\n",
    "# Appliquer la fonction pour créer la colonne 'mediane'\n",
    "data['mediane'] = data['arrivé'].apply(calculer_mediane)\n",
    "\n",
    "# Afficher le DataFrame avec la nouvelle colonne\n",
    "data.head()"
   ]
  },
  {
   "cell_type": "code",
   "execution_count": 11,
   "id": "b8445718",
   "metadata": {},
   "outputs": [],
   "source": [
    "data.to_csv('C:/Users/medam/OneDrive/Documentos/E-TRANSMA/etransma/grille.csv')"
   ]
  }
 ],
 "metadata": {
  "kernelspec": {
   "display_name": "Python 3 (ipykernel)",
   "language": "python",
   "name": "python3"
  },
  "language_info": {
   "codemirror_mode": {
    "name": "ipython",
    "version": 3
   },
   "file_extension": ".py",
   "mimetype": "text/x-python",
   "name": "python",
   "nbconvert_exporter": "python",
   "pygments_lexer": "ipython3",
   "version": "3.12.4"
  }
 },
 "nbformat": 4,
 "nbformat_minor": 5
}
